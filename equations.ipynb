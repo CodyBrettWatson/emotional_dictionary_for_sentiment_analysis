{
 "cells": [
  {
   "cell_type": "markdown",
   "metadata": {},
   "source": [
    "# Section 3.2.1 Generating Algorithm"
   ]
  },
  {
   "cell_type": "markdown",
   "metadata": {},
   "source": [
    "$P(r_i | d_i) = \\sum_{j=1}^{W}P(w_j | d_i)P(r_i | w_i)$"
   ]
  },
  {
   "cell_type": "markdown",
   "metadata": {},
   "source": [
    "$P(r_i | d_i) = \\sum_{j=1}^{W}P(w_j | d_i) \\prod_{k=1}^{E}P(e_k | w_j)^{r_{ik}}$"
   ]
  },
  {
   "cell_type": "markdown",
   "metadata": {},
   "source": [
    "$\\log l = \\log(\\prod_{i=1}^{N}(\\varepsilon_i \\sum{j=1}^{W} \\sigma_{ij} \\prod_{k=1}^{E} \\theta_{jk}^{r_{ik}})) = \\sum_{i=1}^{N} \\log(\\varepsilon_i \\sum_{j=1}^{W} \\sigma_{ij} \\prod_{k=1}^{E} \\theta_{jk}^{r_{ik}})$"
   ]
  },
  {
   "cell_type": "markdown",
   "metadata": {},
   "source": [
    "$\\log l \\geq \\sum_{i=1}^{N} \\sum_{j=1}^{W} \\varepsilon_i  \\sigma_{ij} \\sum_{k=1}^{E} r_{ik} \\log \\theta_{jk}$"
   ]
  },
  {
   "cell_type": "markdown",
   "metadata": {},
   "source": [
    "$\\hat{l} =  \\sum_{i=1}^{N} \\sum_{j=1}^{W} \\varepsilon_i  \\sigma_{ij} \\sum_{k=1}^{E} r_{ik} \\log \\theta_{jk} + \\lambda (\\sum_{k=1}^{E} \\theta_{jk}-1)$"
   ]
  },
  {
   "cell_type": "markdown",
   "metadata": {},
   "source": [
    "$ \\frac{\\partial \\hat{l}}{\\partial \\theta_{jk}} = \\sum_{i=1}^{N} \\frac{\\varepsilon_i \\sigma_{ij} r_{ik}}{\\theta_{jk}} + \\lambda = \\frac{\\sum_{i=1}^{N} \\varepsilon_i \\sigma_{ij} r_{ik}}{\\theta_{jk}} + \\lambda = 0$"
   ]
  },
  {
   "cell_type": "markdown",
   "metadata": {},
   "source": [
    "$ \\theta_{jk} = -\\frac{\\sum_{i=1}^{N} \\varepsilon_i \\sigma_{ij} r_{ik}}{\\lambda}$"
   ]
  },
  {
   "cell_type": "markdown",
   "metadata": {},
   "source": [
    "$\\lambda = -\\sum_{k=1}^{E} \\sum_{i=1}^{N} \\varepsilon_i \\sigma_{ij} r_{ik}$"
   ]
  },
  {
   "cell_type": "markdown",
   "metadata": {},
   "source": [
    "$ \\theta_{jk} = \\frac{\\sum_{i=1}^{N} \\varepsilon_i \\sigma_{ij} r_{ik}}{\\sum_{k=1}^{E} \\sum_{i=1}^{N} \\varepsilon_i \\sigma_{ij} r_{ik}} $"
   ]
  },
  {
   "cell_type": "markdown",
   "metadata": {},
   "source": [
    "$ \\varepsilon_i = \\sum_{k=1}^{E} P(d_i,e_k) = \\sum_{k=1}^{E} (r_{ik} / \\sum_{i=1}^{N} r_{ik})$"
   ]
  },
  {
   "cell_type": "markdown",
   "metadata": {},
   "source": [
    "# Section 3.3 Building Topic Level Emotional Dictionary"
   ]
  },
  {
   "cell_type": "markdown",
   "metadata": {},
   "source": [
    "$P(r_i | d_i) = \\sum_{m=1}^{K}P(z_m | d_i)P(r_i | z_m)$"
   ]
  },
  {
   "cell_type": "markdown",
   "metadata": {},
   "source": [
    "$\\log l = \\log(\\prod_{i=1}^{N}(\\varepsilon_i \\sum{m=1}^{W} \\sigma_{im} \\prod_{k=1}^{E} \\theta_{mk}^{r_{ik}})) = \\sum_{i=1}^{N} \\log(\\varepsilon_i \\sum_{m=1}^{W} \\sigma_{im} \\prod_{k=1}^{E} \\theta_{mk}^{r_{ik}})$"
   ]
  },
  {
   "cell_type": "markdown",
   "metadata": {},
   "source": [
    "$ \\eta_{mk} = \\frac{\\sum_{i=1}^{N} \\varepsilon_i P(z_m | d_i)r_{ik}}{\\sum_{k=1}^{E} \\sum_{i=1}^{N} \\varepsilon_i P(z_m | d_i)r_{ik}} $"
   ]
  },
  {
   "cell_type": "markdown",
   "metadata": {},
   "source": [
    "$ p(z_m | d_i) = \\frac {n_{z_m}^{d_i} + a}{\\sum_{m=1}^{K} (n_{z_m}^{d_i} + a)}$"
   ]
  },
  {
   "cell_type": "markdown",
   "metadata": {},
   "source": [
    "$ p(w_j | z_m) = \\frac {n_{w_j}^{z_m} + \\beta}{\\sum_{j=1}^{W} (n_{w_j}^{z_m} + \\beta)}$"
   ]
  },
  {
   "cell_type": "markdown",
   "metadata": {},
   "source": [
    "# Section 3.4 Emotional Dictionay Application"
   ]
  },
  {
   "cell_type": "markdown",
   "metadata": {},
   "source": [
    "$ \\hat{P} (e|d) = \\sum_{w \\in W} p(w|d)p(e|w)$"
   ]
  },
  {
   "cell_type": "markdown",
   "metadata": {},
   "source": [
    "$ \\hat{P} (e|d) = \\sum_{z \\in Z} p(z|d)p(e|z)$"
   ]
  },
  {
   "cell_type": "markdown",
   "metadata": {},
   "source": [
    "# Section 4.2 Experiment Design"
   ]
  },
  {
   "cell_type": "markdown",
   "metadata": {},
   "source": [
    "$ Acc_d @k = $  \n",
    "**need to work on this  \n",
    "need to have multi-line curly brace**"
   ]
  },
  {
   "cell_type": "markdown",
   "metadata": {},
   "source": [
    "$ Acc@k = \\sum_{d \\in D} Acc_d @k/|D|$"
   ]
  },
  {
   "cell_type": "markdown",
   "metadata": {},
   "source": [
    "$ P_d = \\frac{\\sum_{i=1}^{E} (X_i - \\bar{X})(Y_i - \\bar{Y})}{(E-1)\\sigma_X \\sigma_Y}$"
   ]
  }
 ],
 "metadata": {
  "kernelspec": {
   "display_name": "Python 3",
   "language": "python",
   "name": "python3"
  },
  "language_info": {
   "codemirror_mode": {
    "name": "ipython",
    "version": 3
   },
   "file_extension": ".py",
   "mimetype": "text/x-python",
   "name": "python",
   "nbconvert_exporter": "python",
   "pygments_lexer": "ipython3",
   "version": "3.7.1"
  }
 },
 "nbformat": 4,
 "nbformat_minor": 2
}
